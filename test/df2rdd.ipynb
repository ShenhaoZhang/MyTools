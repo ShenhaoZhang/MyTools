{
 "cells": [
  {
   "cell_type": "code",
   "execution_count": 43,
   "metadata": {},
   "outputs": [
    {
     "data": {
      "text/html": [
       "\n",
       "            <div>\n",
       "                <p><b>SparkSession - in-memory</b></p>\n",
       "                \n",
       "        <div>\n",
       "            <p><b>SparkContext</b></p>\n",
       "\n",
       "            <p><a href=\"http://172.22.140.10:4040\">Spark UI</a></p>\n",
       "\n",
       "            <dl>\n",
       "              <dt>Version</dt>\n",
       "                <dd><code>v3.2.0</code></dd>\n",
       "              <dt>Master</dt>\n",
       "                <dd><code>local[*]</code></dd>\n",
       "              <dt>AppName</dt>\n",
       "                <dd><code>test</code></dd>\n",
       "            </dl>\n",
       "        </div>\n",
       "        \n",
       "            </div>\n",
       "        "
      ],
      "text/plain": [
       "<pyspark.sql.session.SparkSession at 0x7f35b8bc1dc0>"
      ]
     },
     "execution_count": 43,
     "metadata": {},
     "output_type": "execute_result"
    }
   ],
   "source": [
    "import sys \n",
    "sys.path.append('..')\n",
    "\n",
    "import pandas as pd\n",
    "from pyspark.sql import SparkSession\n",
    "from pyspark.sql import functions as F\n",
    "from plotnine.data import diamonds\n",
    "\n",
    "from apps.df2rdd import df_to_rdd\n",
    "\n",
    "spark = (\n",
    "    SparkSession\n",
    "    .builder\n",
    "    .appName('test')\n",
    "    .config(\"spark.executor.cores\",\"8\")\n",
    "    .config(\"spark.default.parallelism\",\"600\")\n",
    "    .getOrCreate()\n",
    ")\n",
    "spark"
   ]
  },
  {
   "cell_type": "code",
   "execution_count": 3,
   "metadata": {},
   "outputs": [
    {
     "name": "stdout",
     "output_type": "stream",
     "text": [
      "+-----+---------+-----+-------+-----+-----+-----+----+----+----+\n",
      "|carat|      cut|color|clarity|depth|table|price|   x|   y|   z|\n",
      "+-----+---------+-----+-------+-----+-----+-----+----+----+----+\n",
      "| 0.23|    Ideal|    E|    SI2| 61.5| 55.0|  326|3.95|3.98|2.43|\n",
      "| 0.21|  Premium|    E|    SI1| 59.8| 61.0|  326|3.89|3.84|2.31|\n",
      "| 0.23|     Good|    E|    VS1| 56.9| 65.0|  327|4.05|4.07|2.31|\n",
      "| 0.29|  Premium|    I|    VS2| 62.4| 58.0|  334| 4.2|4.23|2.63|\n",
      "| 0.31|     Good|    J|    SI2| 63.3| 58.0|  335|4.34|4.35|2.75|\n",
      "| 0.24|Very Good|    J|   VVS2| 62.8| 57.0|  336|3.94|3.96|2.48|\n",
      "| 0.24|Very Good|    I|   VVS1| 62.3| 57.0|  336|3.95|3.98|2.47|\n",
      "| 0.26|Very Good|    H|    SI1| 61.9| 55.0|  337|4.07|4.11|2.53|\n",
      "| 0.22|     Fair|    E|    VS2| 65.1| 61.0|  337|3.87|3.78|2.49|\n",
      "| 0.23|Very Good|    H|    VS1| 59.4| 61.0|  338| 4.0|4.05|2.39|\n",
      "|  0.3|     Good|    J|    SI1| 64.0| 55.0|  339|4.25|4.28|2.73|\n",
      "| 0.23|    Ideal|    J|    VS1| 62.8| 56.0|  340|3.93| 3.9|2.46|\n",
      "| 0.22|  Premium|    F|    SI1| 60.4| 61.0|  342|3.88|3.84|2.33|\n",
      "| 0.31|    Ideal|    J|    SI2| 62.2| 54.0|  344|4.35|4.37|2.71|\n",
      "|  0.2|  Premium|    E|    SI2| 60.2| 62.0|  345|3.79|3.75|2.27|\n",
      "| 0.32|  Premium|    E|     I1| 60.9| 58.0|  345|4.38|4.42|2.68|\n",
      "|  0.3|    Ideal|    I|    SI2| 62.0| 54.0|  348|4.31|4.34|2.68|\n",
      "|  0.3|     Good|    J|    SI1| 63.4| 54.0|  351|4.23|4.29| 2.7|\n",
      "|  0.3|     Good|    J|    SI1| 63.8| 56.0|  351|4.23|4.26|2.71|\n",
      "|  0.3|Very Good|    J|    SI1| 62.7| 59.0|  351|4.21|4.27|2.66|\n",
      "+-----+---------+-----+-------+-----+-----+-----+----+----+----+\n",
      "only showing top 20 rows\n",
      "\n"
     ]
    }
   ],
   "source": [
    "table = spark.createDataFrame(data=diamonds)\n",
    "table.show()"
   ]
  },
  {
   "cell_type": "code",
   "execution_count": 7,
   "metadata": {},
   "outputs": [
    {
     "name": "stderr",
     "output_type": "stream",
     "text": [
      "                                                                                \r"
     ]
    },
    {
     "data": {
      "text/plain": [
       "(('H',),\n",
       "       carat        cut color clarity  depth  table  price     x     y     z\n",
       " 0      0.30    Premium     H     SI1   60.9   59.0    554  4.31  4.29  2.62\n",
       " 1      0.30    Premium     H     SI1   60.1   55.0    554  4.41  4.38  2.64\n",
       " 2      0.30    Premium     H     SI1   62.9   58.0    554  4.28  4.24  2.68\n",
       " 3      0.30  Very Good     H     SI1   63.3   56.0    554  4.29  4.27  2.71\n",
       " 4      1.00       Fair     H     SI2   67.7   60.0   2875  6.11  5.98  4.09\n",
       " ...     ...        ...   ...     ...    ...    ...    ...   ...   ...   ...\n",
       " 8299   0.70    Premium     H     VS1   62.3   60.0   2333  5.65  5.61  3.51\n",
       " 8300   0.73  Very Good     H     SI1   59.5   58.0   2393  5.85  5.91  3.50\n",
       " 8301   0.77       Good     H     SI1   57.2   65.0   2457  6.08  6.02  3.46\n",
       " 8302   0.89    Premium     H     SI2   62.2   59.0   2610  6.17  6.15  3.83\n",
       " 8303   0.70       Good     H    VVS2   60.5   62.0   2611  5.66  5.74  3.45\n",
       " \n",
       " [8304 rows x 10 columns])"
      ]
     },
     "execution_count": 7,
     "metadata": {},
     "output_type": "execute_result"
    }
   ],
   "source": [
    "rdd = df_to_rdd(df=table,groupby_key='color')\n",
    "rdd.first()"
   ]
  },
  {
   "cell_type": "code",
   "execution_count": 19,
   "metadata": {},
   "outputs": [
    {
     "name": "stdout",
     "output_type": "stream",
     "text": [
      "+---+------+\n",
      "|  a|     b|\n",
      "+---+------+\n",
      "|{H}| 83040|\n",
      "|{D}| 67750|\n",
      "|{G}|112920|\n",
      "|{I}| 54220|\n",
      "|{E}| 97970|\n",
      "|{J}| 28080|\n",
      "|{F}| 95420|\n",
      "+---+------+\n",
      "\n"
     ]
    }
   ],
   "source": [
    "rdd.mapValues(lambda df:df.size).mapValues(lambda x:int(x)).toDF(['a','b']).show()"
   ]
  }
 ],
 "metadata": {
  "interpreter": {
   "hash": "bd268f7866a163180400200105e2f04e308ca1b14f67412b0fa0af36d347cc58"
  },
  "kernelspec": {
   "display_name": "Python 3.9.7 ('analysis')",
   "language": "python",
   "name": "python3"
  },
  "language_info": {
   "codemirror_mode": {
    "name": "ipython",
    "version": 3
   },
   "file_extension": ".py",
   "mimetype": "text/x-python",
   "name": "python",
   "nbconvert_exporter": "python",
   "pygments_lexer": "ipython3",
   "version": "3.9.7"
  },
  "orig_nbformat": 4
 },
 "nbformat": 4,
 "nbformat_minor": 2
}
